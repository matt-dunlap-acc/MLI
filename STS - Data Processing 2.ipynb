{
 "cells": [
  {
   "cell_type": "code",
   "execution_count": 1,
   "id": "2aa39b8e",
   "metadata": {},
   "outputs": [],
   "source": [
    "import gzip\n",
    "import json\n",
    "import os\n",
    "import io\n",
    "import csv #to read in and split up all the content from the dataset input file\n",
    "import numpy as np #import numpy using np as an alias\n",
    "import pandas as pd #import pandas using pd as an alias\n",
    "import matplotlib.pyplot as plt #import matplotlib.pyplot using plt as an alias\n",
    "import seaborn as sb #import seaborn using sns as an alias\n",
    "import sys\n",
    "import codecs\n",
    "# Scikit-Learn ≥0.20 is required\n",
    "import sklearn\n",
    "assert sklearn.__version__ >= \"0.20\"\n",
    "from sklearn.model_selection import train_test_split\n",
    "from sklearn.preprocessing import LabelEncoder, OneHotEncoder #import the encoder classes"
   ]
  },
  {
   "cell_type": "code",
   "execution_count": 2,
   "id": "cee5cc2b",
   "metadata": {},
   "outputs": [],
   "source": [
    "draftDf = pd.read_csv('raw_training_data.csv', delimiter=',')"
   ]
  },
  {
   "cell_type": "code",
   "execution_count": 22,
   "id": "562d0f31",
   "metadata": {},
   "outputs": [],
   "source": [
    "def jsonStrToList(jsonStr):\n",
    "    jsonListOfDict = json.loads(jsonStr)\n",
    "    return jsonListOfDict"
   ]
  },
  {
   "cell_type": "code",
   "execution_count": 23,
   "id": "6d1c1889",
   "metadata": {},
   "outputs": [],
   "source": [
    "#Store current hp for floor 33 in hpFloor33 and store all indices for entries with less than 33 floors\n",
    "#in deleteIndices to remove from dataset.\n",
    "currentHpFloor33 = []\n",
    "deleteIndices = []\n",
    "for floorsStr in draftDf['current_hp_per_floor']:\n",
    "    hpPerFloorListOfInts = jsonStrToList(floorsStr)\n",
    "    try:\n",
    "        currentHpFloor33.append(hpPerFloorListOfInts[32])\n",
    "    except:\n",
    "        deleteIndices.append(len(deleteIndices) + len(currentHpFloor33))"
   ]
  },
  {
   "cell_type": "code",
   "execution_count": 24,
   "id": "e70059c2",
   "metadata": {},
   "outputs": [],
   "source": [
    "maxHpFloor33 = []\n",
    "deleteIndices1 = []\n",
    "for floorsStr in draftDf['current_hp_per_floor']:\n",
    "    hpPerFloorListOfInts = jsonStrToList(floorsStr)\n",
    "    try:\n",
    "        maxHpFloor33.append(hpPerFloorListOfInts[32])\n",
    "    except:\n",
    "        deleteIndices1.append(len(deleteIndices1) + len(maxHpFloor33))"
   ]
  },
  {
   "cell_type": "code",
   "execution_count": 25,
   "id": "6f2e2c98",
   "metadata": {},
   "outputs": [],
   "source": [
    "#convert victory columns from TRUE/FALSE to binary\n",
    "victories = []\n",
    "deleteIndices2 = []\n",
    "countRow = 0\n",
    "for victory in draftDf['victory']:\n",
    "    if (victory == True):\n",
    "        victories.append(1)\n",
    "    elif (victory == False):\n",
    "        victories.append(0)\n",
    "    else:\n",
    "        deleteIndices2.append(countRow)\n",
    "    countRow += 1"
   ]
  },
  {
   "cell_type": "code",
   "execution_count": 26,
   "id": "655217a9",
   "metadata": {},
   "outputs": [
    {
     "data": {
      "text/plain": [
       "4"
      ]
     },
     "execution_count": 26,
     "metadata": {},
     "output_type": "execute_result"
    }
   ],
   "source": [
    "#convert ascension_level column from str to int and store the ints in ascensionLvl\n",
    "ascensionLvl = []\n",
    "deleteIndices3 = []\n",
    "countRow = 0\n",
    "for ascension in draftDf['ascension_level']:\n",
    "    if (ascension < 0):\n",
    "        deleteIndices3.append(countRow)\n",
    "    else:\n",
    "        ascensionLvl.append(int(ascension))\n",
    "        \n",
    "len(deleteIndices3)"
   ]
  },
  {
   "cell_type": "code",
   "execution_count": 27,
   "id": "4e2b7259",
   "metadata": {},
   "outputs": [],
   "source": [
    "uniqueCards = ['Defend', 'Neutralize', 'Strike', 'Survivor', 'Acrobatics', 'Backflip', 'Bane', \n",
    "               'Blade Dance', 'Cloak And Dagger', 'Dagger Spray', 'Dagger Throw', 'Deadly Poison', \n",
    "               'Deflect', 'Dodge and Roll', 'Flying Knee', 'Outmaneuver', 'PiercingWail', \n",
    "               'Poisoned Stab', 'Prepared', 'Quick Slash', 'Slice', 'Sneaky Strike', 'Sucker Punch', \n",
    "               'Accuracy', 'All Out Attack', 'Backstab', 'Blur', 'Bouncing Flask', \n",
    "               'Calculated Gamble', 'Caltrops', 'Catalyst', 'Choke', 'Concentrate', \n",
    "               'Crippling Cloud', 'Dash', 'Distraction', 'Endless Agony', 'Escape Plan', \n",
    "               'Eviscerate', 'Expertise', 'Finisher', 'Flechettes', 'Footwork', 'Heel Hook', \n",
    "               'Infinite Blades', 'Leg Sweep', 'Masterful Stab', 'Noxious Fumes', 'Predator', \n",
    "               'Reflex', 'Riddle With Holes', 'Setup', 'Skewer', 'Tactician', 'Terror', \n",
    "               'Well Laid Plans', 'A Thousand Cuts', 'Adrenaline', 'After Image', 'Alchemize', \n",
    "               'Bullet Time', 'Burst', 'Corpse Explosion', 'Die Die Die', 'Doppelganger', 'Envenom', \n",
    "               'Glass Knife', 'Grand Finale', 'Malaise', 'Nightmare', 'Phantasmal Killer', \n",
    "               'Storm of Steel', 'Tools of the Trade', 'Unload', 'Wraith Form', 'Bandage Up',\n",
    "               'Blind', 'Dark Shackles', 'Deep Breath', 'Discovery', 'Dramatic Entrance',\n",
    "               'Enlightenment', 'Finesse', 'Flash of Steel', 'Forethought', 'Good Instincts',\n",
    "               'Impatience', 'Jack Of All Trades', 'Madness', 'Mind Blast', 'Panacea',\n",
    "               'PanicButton', 'Purity', 'Swift Strike', 'Trip', 'Apotheosis', 'Chrysalis',\n",
    "               'HandOfGreed', 'Magnetism', 'Master of Strategy', 'Mayhem', 'Metamorphosis',\n",
    "               'Panache', 'Sadistic Nature', 'Secret Technique', 'Secret Weapon', 'The Bomb',\n",
    "               'Thinking Ahead', 'Transmutation', 'Violence', 'Apparition', 'Beta', 'Bite',\n",
    "               'Expunger', 'Insight', 'J.A.X.', 'Miracle', 'Omega', 'RitualDagger', 'Safety',\n",
    "               'Shiv', 'Smite', 'Through Violence', 'Clumsy', 'Decay', 'Doubt',\n",
    "               'Injury', 'Normality', 'Pain', 'Parasite', 'Regret',\n",
    "               'Shame', 'Writhe', 'Pride', 'Venomology', 'Underhanded Strike', 'Crippling Poison',\n",
    "               'Night Terror']\n",
    "#store all indices for rows with cards that do not belong to silent class to later delete these rows\n",
    "deleteIndices4 = []\n",
    "index = 0\n",
    "indexDelete = False\n",
    "for deck in draftDf['master_deck']:\n",
    "    cardList = deck.strip(\"][\").split(', ')\n",
    "    cardList1 = []\n",
    "    #clean up each card\n",
    "    for card in cardList:\n",
    "        card = card.strip('\"\"')\n",
    "        cardList1.append(card.strip(\"''\"))\n",
    "    #store indices for the rows with a non-silent card in their deck\n",
    "    for card in cardList1:\n",
    "        cardSplit = []\n",
    "        #if card is not in uniqueCards\n",
    "        if not(card in uniqueCards):\n",
    "            #some cards are inconsistently labeled,\n",
    "            #if underscores are found then the card can\n",
    "            #be regular or upgraded\n",
    "            if (\"_\" in card):\n",
    "                cardSplit = card.split(\"_\")\n",
    "                #if card is upgraded\n",
    "                if (cardSplit[1][-1].isnumeric()):\n",
    "                    #overwrite all letters following '_' with\n",
    "                    cardSplit[1] = \"+\" + cardSplit[1][-1]\n",
    "                #if not upgraded, then delete all letters following \"_\"\n",
    "                else:\n",
    "                    cardSplit[1] = \"\"\n",
    "            #if card is upgraded\n",
    "            elif (\"+\" in card):\n",
    "                cardSplit = card.split(\"+\")\n",
    "                if (cardSplit[0] == \"Wraith Form v2\"):\n",
    "                    cardSplit[0] = \"Wraith Form\"\n",
    "                    cardSplit[1] = \"+\" + cardSplit[1][-1]\n",
    "            #card names inconsistent. This card should be\n",
    "            #Wraith Form\n",
    "            elif (card == \"Wraith Form v2\"):\n",
    "                card = \"Wraith Form\"\n",
    "                #append instead of indexing because cardSplit would be empty\n",
    "                cardSplit.append(\"Wraith Form\")\n",
    "            \n",
    "            #if one of the above conditions was true\n",
    "            if (len(cardSplit) != 0):\n",
    "                #if card not in uniqueCards\n",
    "                if not(cardSplit[0] in uniqueCards):\n",
    "                    deleteIndices4.append(index)\n",
    "                    #DEBUG: use to print the name of the card that disqualified this row/deck\n",
    "                    #from being used in the dataset\n",
    "                    #if (index == 8393):\n",
    "                    #print(card)\n",
    "                    break\n",
    "    index += 1"
   ]
  },
  {
   "cell_type": "code",
   "execution_count": 28,
   "id": "bbd81a6a",
   "metadata": {
    "scrolled": true
   },
   "outputs": [
    {
     "data": {
      "text/plain": [
       "6246"
      ]
     },
     "execution_count": 28,
     "metadata": {},
     "output_type": "execute_result"
    }
   ],
   "source": [
    "#combine all indices of rows to be removed\n",
    "indicesToRemove = set(deleteIndices + deleteIndices1 + deleteIndices2 + deleteIndices3 + deleteIndices4)\n",
    "len(indicesToRemove)"
   ]
  },
  {
   "cell_type": "code",
   "execution_count": 29,
   "id": "bb91cafe",
   "metadata": {},
   "outputs": [],
   "source": [
    "#remove rows\n",
    "draftDfv2 = draftDf.drop(labels=indicesToRemove, axis=0, inplace=False)\n",
    "draftDfv3 = draftDfv2"
   ]
  },
  {
   "cell_type": "code",
   "execution_count": 30,
   "id": "1894e951",
   "metadata": {},
   "outputs": [],
   "source": [
    "#Attempted to programmatically edit each string in 'master_deck' but memory\n",
    "#requirements were too intensive. So, saved the df as csv to manually use the\n",
    "#excel replace function to format all cards in the 'master_deck' column\n",
    "#draftDfv3.to_csv('draftDfv3.csv')"
   ]
  }
 ],
 "metadata": {
  "kernelspec": {
   "display_name": "Python 3 (ipykernel)",
   "language": "python",
   "name": "python3"
  },
  "language_info": {
   "codemirror_mode": {
    "name": "ipython",
    "version": 3
   },
   "file_extension": ".py",
   "mimetype": "text/x-python",
   "name": "python",
   "nbconvert_exporter": "python",
   "pygments_lexer": "ipython3",
   "version": "3.9.7"
  }
 },
 "nbformat": 4,
 "nbformat_minor": 5
}
